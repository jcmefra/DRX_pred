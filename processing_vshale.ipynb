{
 "cells": [
  {
   "cell_type": "code",
   "execution_count": 1,
   "id": "889ded67",
   "metadata": {},
   "outputs": [],
   "source": [
    "# %% [markdown]\n",
    "# # 🔬 Predicción de mineralogía sin transformación CLR\n",
    "# \n",
    "# Este notebook evalúa el rendimiento de un modelo Random Forest multisalida para predecir porcentajes de arcillas, cuarzo y carbonatos directamente (sin usar transformaciones composicionales como CLR).\n",
    "# \n",
    "# **Objetivo:** Evaluar si este enfoque mejora la capacidad de generalización, especialmente en valores extremos.\n",
    "\n",
    "# %% 📦 Librerías\n",
    "import warnings\n",
    "warnings.filterwarnings(\"ignore\")\n",
    "\n",
    "# Manipulación de datos\n",
    "import numpy as np\n",
    "import pandas as pd\n",
    "\n",
    "# Machine Learning\n",
    "from sklearn.ensemble import RandomForestRegressor\n",
    "from sklearn.multioutput import MultiOutputRegressor\n",
    "from sklearn.model_selection import train_test_split, GridSearchCV, KFold\n",
    "from sklearn.metrics import r2_score, mean_absolute_error, mean_squared_error\n",
    "\n",
    "# Visualización\n",
    "import matplotlib.pyplot as plt\n",
    "import seaborn as sns\n",
    "\n",
    "# Estilo visual\n",
    "plt.rcParams[\"figure.dpi\"] = 300"
   ]
  },
  {
   "cell_type": "code",
   "execution_count": null,
   "id": "2489b12e",
   "metadata": {},
   "outputs": [],
   "source": [
    "import lasio\n",
    "import pandas as pd\n",
    "import glob\n",
    "import os\n",
    "\n",
    "# Ruta donde están tus LAS\n",
    "ruta = \"data/Curvas VSH\"\n",
    "\n",
    "# Diccionario para guardar los dataframes\n",
    "dfs = {}\n",
    "\n",
    "for file in glob.glob(ruta):\n",
    "    nombre = os.path.splitext(os.path.basename(file))[0]  # nombre sin extensión\n",
    "    las = lasio.read(file)\n",
    "    df = las.df()  # convierte a dataframe con profundidad como índice\n",
    "    df[\"DEPT\"] = las.index  # opcional: poner la profundidad explícita como columna\n",
    "    dfs[nombre] = df\n",
    "\n",
    "# Ejemplo de acceso:\n",
    "print(dfs[\"CERRO GORDO-3_PETROFISICA_2025_QC\"].head())\n"
   ]
  }
 ],
 "metadata": {
  "kernelspec": {
   "display_name": "ICP_ML",
   "language": "python",
   "name": "python3"
  },
  "language_info": {
   "codemirror_mode": {
    "name": "ipython",
    "version": 3
   },
   "file_extension": ".py",
   "mimetype": "text/x-python",
   "name": "python",
   "nbconvert_exporter": "python",
   "pygments_lexer": "ipython3",
   "version": "3.10.18"
  }
 },
 "nbformat": 4,
 "nbformat_minor": 5
}
